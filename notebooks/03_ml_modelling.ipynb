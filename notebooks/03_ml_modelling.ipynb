{
 "cells": [
  {
   "cell_type": "code",
   "execution_count": 1,
   "id": "bab2c322",
   "metadata": {},
   "outputs": [],
   "source": [
    "from sklearn.model_selection import train_test_split\n",
    "from sklearn.metrics import roc_curve, auc\n",
    "import collections\n",
    "from tqdm import tqdm\n",
    "import json\n",
    "import numpy as np\n",
    "import os\n",
    "import lazyqsar as lq\n",
    "import pandas as pd\n",
    "\n",
    "data_dir = \"../data/\"\n",
    "model_dir = \"../models/\"\n",
    "figure_dir = \"../figures/\"\n",
    "N_FOLDS = 5\n",
    "\n",
    "def cross_validate(smiles_list, y, name, descriptor, method):\n",
    "\n",
    "    cross_validation_data = collections.defaultdict(list)\n",
    "\n",
    "    for _ in tqdm(range(N_FOLDS)):\n",
    "        smiles_train, smiles_test, y_train, y_test = train_test_split(\n",
    "            smiles_list,y, test_size=0.2, stratify=y\n",
    "        )\n",
    "\n",
    "        model = lq.LazyBinaryQSAR(model_type=method, descriptor_type=descriptor)\n",
    "        model.fit(smiles_train, y_train)\n",
    "        y_pred = model.predict_proba(smiles_test)\n",
    "\n",
    "        fpr, tpr, thr = roc_curve(y_test, y_pred)\n",
    "        roc_auc = auc(fpr, tpr)\n",
    "        J = tpr - fpr\n",
    "\n",
    "        best_thr_index = np.argmax(J)\n",
    "        best_thr = thr[best_thr_index]\n",
    "\n",
    "        cross_validation_data[\"roc_auc\"] += [roc_auc]\n",
    "        cross_validation_data[\"thr\"] += [best_thr]\n",
    "        cross_validation_data[\"y_hat\"] += [list(y_pred)]\n",
    "        cross_validation_data[\"y\"] += [list(y_test)]\n",
    "\n",
    "    with open(\n",
    "        os.path.join(model_dir, f\"{name}.json\"),\n",
    "        \"w\",\n",
    "    ) as f:\n",
    "        json.dump(cross_validation_data, f, indent=4)"
   ]
  },
  {
   "cell_type": "markdown",
   "id": "0f3431a3",
   "metadata": {},
   "source": [
    "# Internal Data only"
   ]
  },
  {
   "cell_type": "code",
   "execution_count": 2,
   "id": "56b99f6a",
   "metadata": {},
   "outputs": [
    {
     "name": "stdout",
     "output_type": "stream",
     "text": [
      "754 active molecules\n",
      "81 inactive molecules\n"
     ]
    }
   ],
   "source": [
    "df = pd.read_csv(os.path.join(data_dir, \"processed\", \"all_molecules.csv\"))\n",
    "print(len(df[df[\"activity\"] == 1]), \"active molecules\")\n",
    "print(len(df[df[\"activity\"] == 0]), \"inactive molecules\")"
   ]
  },
  {
   "cell_type": "code",
   "execution_count": null,
   "id": "201b689b",
   "metadata": {},
   "outputs": [],
   "source": [
    "%%capture\n",
    "cross_validate(df[\"canonical_smiles\"], df[\"activity\"].tolist(), \"internal_all_morgan\", \"morgan\", \"zsrandomforest\")\n",
    "cross_validate(df[\"canonical_smiles\"], df[\"activity\"].tolist(), \"internal_all_mordred\", \"mordred\", \"zsrandomforest\")"
   ]
  },
  {
   "cell_type": "markdown",
   "id": "95de25f7",
   "metadata": {},
   "source": [
    "## NP only"
   ]
  },
  {
   "cell_type": "code",
   "execution_count": 3,
   "id": "b9eec2c0",
   "metadata": {},
   "outputs": [],
   "source": [
    "%%capture\n",
    "df_np = df[df[\"category\"]==\"natural\"]\n",
    "#cross_validate(df_np[\"canonical_smiles\"], df_np[\"activity\"].tolist(), \"internal_np_morgan\", \"morgan\", \"zsrandomforest\")\n",
    "cross_validate(df_np[\"canonical_smiles\"], df_np[\"activity\"].tolist(), \"internal_np_mordred\", \"mordred\", \"zsrandomforest\")"
   ]
  },
  {
   "cell_type": "markdown",
   "id": "bdc62046",
   "metadata": {},
   "source": [
    "## SD only"
   ]
  },
  {
   "cell_type": "code",
   "execution_count": 4,
   "id": "807fe36d",
   "metadata": {},
   "outputs": [],
   "source": [
    "%%capture\n",
    "df_sd = df[df[\"category\"]==\"synthetic\"]\n",
    "#cross_validate(df_sd[\"canonical_smiles\"], df_sd[\"activity\"].tolist(), \"internal_sd_morgan\", \"morgan\", \"zsrandomforest\")\n",
    "cross_validate(df_sd[\"canonical_smiles\"], df_sd[\"activity\"].tolist(), \"internal_sd_mordred\", \"mordred\", \"zsrandomforest\")"
   ]
  },
  {
   "cell_type": "markdown",
   "id": "f3788d16",
   "metadata": {},
   "source": [
    "# External negative data\n",
    "50-50 chembl coconut"
   ]
  },
  {
   "cell_type": "code",
   "execution_count": 5,
   "id": "420e4564",
   "metadata": {},
   "outputs": [
    {
     "name": "stdout",
     "output_type": "stream",
     "text": [
      "(3754, 2)\n"
     ]
    },
    {
     "name": "stderr",
     "output_type": "stream",
     "text": [
      "  0%|          | 0/5 [00:00<?, ?it/s]"
     ]
    },
    {
     "name": "stdout",
     "output_type": "stream",
     "text": [
      "Fitting inputs to feature descriptors using mordred\n"
     ]
    },
    {
     "name": "stderr",
     "output_type": "stream",
     "text": [
      "\n",
      "  0%|          | 0/5 [03:21<?, ?it/s]              "
     ]
    },
    {
     "name": "stdout",
     "output_type": "stream",
     "text": [
      "/home/gturon/miniconda3/envs/lazyqsar/lib/python3.10/site-packages/mordred/_matrix_attributes.py:251: RuntimeWarning: invalid value encountered in scalar power\n",
      "  s += (eig.vec[i, eig.max] * eig.vec[j, eig.max]) ** -0.5\n"
     ]
    },
    {
     "name": "stderr",
     "output_type": "stream",
     "text": [
      "100%|██████████| 3003/3003 [04:47<00:00, 10.46it/s]\n"
     ]
    },
    {
     "name": "stdout",
     "output_type": "stream",
     "text": [
      "Transforming inputs to feature descriptors using mordred\n"
     ]
    },
    {
     "name": "stderr",
     "output_type": "stream",
     "text": [
      "\n",
      "  0%|          | 0/5 [08:23<?, ?it/s]              "
     ]
    },
    {
     "name": "stdout",
     "output_type": "stream",
     "text": [
      "/home/gturon/miniconda3/envs/lazyqsar/lib/python3.10/site-packages/mordred/_matrix_attributes.py:251: RuntimeWarning: invalid value encountered in scalar power\n",
      "  s += (eig.vec[i, eig.max] * eig.vec[j, eig.max]) ** -0.5\n"
     ]
    },
    {
     "name": "stderr",
     "output_type": "stream",
     "text": [
      "100%|██████████| 3003/3003 [05:04<00:00,  9.85it/s]\n"
     ]
    },
    {
     "name": "stdout",
     "output_type": "stream",
     "text": [
      "Performing predictions on input feature of shape: (3003, 1371)\n",
      "Total samples: 3003, positive samples: 603, negative samples: 2400\n",
      "Positive proportion: 0.20\n",
      "Sampling rounds: 1, positive samples per round: 603, negative samples per round: 2400\n",
      "Desired positive proportion: 0.2007992007992008 Actual positive proportion:  0.2007992007992008\n",
      "Fitting model on 3003 samples, positive samples: 603, negative samples: 2400, number of features 1371\n",
      "CV-0...: {'n_estimators': 501, 'max_features': 0.24484242524861066, 'criterion': 'entropy', 'max_leaf_nodes': 1156, 'random_state': 12032022, 'verbose': 0, 'n_jobs': 8}\n",
      "Internal AUROC zsRF CV-0: 0.9228973509933776\n",
      "CV-1...: {'n_estimators': 501, 'max_features': 0.24484242524861066, 'criterion': 'entropy', 'max_leaf_nodes': 1156, 'random_state': 12032022, 'verbose': 0, 'n_jobs': 8}\n",
      "Internal AUROC zsRF CV-1: 0.9152428256070639\n",
      "CV-2...: {'n_estimators': 501, 'max_features': 0.24484242524861066, 'criterion': 'entropy', 'max_leaf_nodes': 1156, 'random_state': 12032022, 'verbose': 0, 'n_jobs': 8}\n",
      "Internal AUROC zsRF CV-2: 0.9457450331125827\n",
      "Average AUROC: 0.9279617365710081\n",
      "Model fitted.\n",
      "Transforming inputs to feature descriptors using mordred\n"
     ]
    },
    {
     "name": "stderr",
     "output_type": "stream",
     "text": [
      "100%|██████████| 751/751 [01:23<00:00,  8.98it/s]\n",
      " 20%|██        | 1/5 [13:16<53:05, 796.49s/it]"
     ]
    },
    {
     "name": "stdout",
     "output_type": "stream",
     "text": [
      "Performing predictions on input feature of shape: (751, 1371)\n",
      "Predicting chunk of size: 751\n",
      "Fitting inputs to feature descriptors using mordred\n"
     ]
    },
    {
     "name": "stderr",
     "output_type": "stream",
     "text": [
      "100%|██████████| 3003/3003 [04:53<00:00, 10.23it/s]\n"
     ]
    },
    {
     "name": "stdout",
     "output_type": "stream",
     "text": [
      "Transforming inputs to feature descriptors using mordred\n"
     ]
    },
    {
     "name": "stderr",
     "output_type": "stream",
     "text": [
      "100%|██████████| 3003/3003 [04:51<00:00, 10.31it/s]\n"
     ]
    },
    {
     "name": "stdout",
     "output_type": "stream",
     "text": [
      "Performing predictions on input feature of shape: (3003, 1371)\n",
      "Total samples: 3003, positive samples: 603, negative samples: 2400\n",
      "Positive proportion: 0.20\n",
      "Sampling rounds: 1, positive samples per round: 603, negative samples per round: 2400\n",
      "Desired positive proportion: 0.2007992007992008 Actual positive proportion:  0.2007992007992008\n",
      "Fitting model on 3003 samples, positive samples: 603, negative samples: 2400, number of features 1371\n",
      "CV-0...: {'n_estimators': 501, 'max_features': 0.24484242524861066, 'criterion': 'entropy', 'max_leaf_nodes': 1156, 'random_state': 12032022, 'verbose': 0, 'n_jobs': 8}\n",
      "Internal AUROC zsRF CV-0: 0.9609492273730683\n",
      "CV-1...: {'n_estimators': 501, 'max_features': 0.24484242524861066, 'criterion': 'entropy', 'max_leaf_nodes': 1156, 'random_state': 12032022, 'verbose': 0, 'n_jobs': 8}\n",
      "Internal AUROC zsRF CV-1: 0.9318487858719647\n",
      "CV-2...: {'n_estimators': 501, 'max_features': 0.24484242524861066, 'criterion': 'entropy', 'max_leaf_nodes': 1156, 'random_state': 12032022, 'verbose': 0, 'n_jobs': 8}\n",
      "Internal AUROC zsRF CV-2: 0.9391335540838851\n",
      "Average AUROC: 0.9439771891096393\n",
      "Model fitted.\n",
      "Transforming inputs to feature descriptors using mordred\n"
     ]
    },
    {
     "name": "stderr",
     "output_type": "stream",
     "text": [
      "\n",
      " 20%|██        | 1/5 [25:41<53:05, 796.49s/it]   "
     ]
    },
    {
     "name": "stdout",
     "output_type": "stream",
     "text": [
      "/home/gturon/miniconda3/envs/lazyqsar/lib/python3.10/site-packages/mordred/_matrix_attributes.py:251: RuntimeWarning: invalid value encountered in scalar power\n",
      "  s += (eig.vec[i, eig.max] * eig.vec[j, eig.max]) ** -0.5\n"
     ]
    },
    {
     "name": "stderr",
     "output_type": "stream",
     "text": [
      "100%|██████████| 751/751 [01:25<00:00,  8.82it/s]\n",
      " 40%|████      | 2/5 [26:28<39:40, 793.58s/it]"
     ]
    },
    {
     "name": "stdout",
     "output_type": "stream",
     "text": [
      "Performing predictions on input feature of shape: (751, 1371)\n",
      "Predicting chunk of size: 751\n",
      "Fitting inputs to feature descriptors using mordred\n"
     ]
    },
    {
     "name": "stderr",
     "output_type": "stream",
     "text": [
      "\n",
      " 40%|████      | 2/5 [28:40<39:40, 793.58s/it]     "
     ]
    },
    {
     "name": "stdout",
     "output_type": "stream",
     "text": [
      "/home/gturon/miniconda3/envs/lazyqsar/lib/python3.10/site-packages/mordred/_matrix_attributes.py:251: RuntimeWarning: invalid value encountered in scalar power\n",
      "  s += (eig.vec[i, eig.max] * eig.vec[j, eig.max]) ** -0.5\n"
     ]
    },
    {
     "name": "stderr",
     "output_type": "stream",
     "text": [
      "100%|██████████| 3003/3003 [05:10<00:00,  9.67it/s]\n"
     ]
    },
    {
     "name": "stdout",
     "output_type": "stream",
     "text": [
      "Transforming inputs to feature descriptors using mordred\n"
     ]
    },
    {
     "name": "stderr",
     "output_type": "stream",
     "text": [
      "\n",
      " 40%|████      | 2/5 [33:54<39:40, 793.58s/it]     "
     ]
    },
    {
     "name": "stdout",
     "output_type": "stream",
     "text": [
      "/home/gturon/miniconda3/envs/lazyqsar/lib/python3.10/site-packages/mordred/_matrix_attributes.py:251: RuntimeWarning: invalid value encountered in scalar power\n",
      "  s += (eig.vec[i, eig.max] * eig.vec[j, eig.max]) ** -0.5\n"
     ]
    },
    {
     "name": "stderr",
     "output_type": "stream",
     "text": [
      "100%|██████████| 3003/3003 [05:10<00:00,  9.67it/s]\n"
     ]
    },
    {
     "name": "stdout",
     "output_type": "stream",
     "text": [
      "Performing predictions on input feature of shape: (3003, 1372)\n",
      "Total samples: 3003, positive samples: 603, negative samples: 2400\n",
      "Positive proportion: 0.20\n",
      "Sampling rounds: 1, positive samples per round: 603, negative samples per round: 2400\n",
      "Desired positive proportion: 0.2007992007992008 Actual positive proportion:  0.2007992007992008\n",
      "Fitting model on 3003 samples, positive samples: 603, negative samples: 2400, number of features 1372\n",
      "CV-0...: {'n_estimators': 501, 'max_features': 0.24484242524861066, 'criterion': 'entropy', 'max_leaf_nodes': 1156, 'random_state': 12032022, 'verbose': 0, 'n_jobs': 8}\n",
      "Internal AUROC zsRF CV-0: 0.9368487858719647\n",
      "CV-1...: {'n_estimators': 501, 'max_features': 0.24484242524861066, 'criterion': 'entropy', 'max_leaf_nodes': 1156, 'random_state': 12032022, 'verbose': 0, 'n_jobs': 8}\n",
      "Internal AUROC zsRF CV-1: 0.9455242825607065\n",
      "CV-2...: {'n_estimators': 501, 'max_features': 0.24484242524861066, 'criterion': 'entropy', 'max_leaf_nodes': 1156, 'random_state': 12032022, 'verbose': 0, 'n_jobs': 8}\n",
      "Internal AUROC zsRF CV-2: 0.9576710816777041\n",
      "Average AUROC: 0.9466813833701252\n",
      "Model fitted.\n",
      "Transforming inputs to feature descriptors using mordred\n"
     ]
    },
    {
     "name": "stderr",
     "output_type": "stream",
     "text": [
      "100%|██████████| 751/751 [01:08<00:00, 10.89it/s]\n",
      " 60%|██████    | 3/5 [39:57<26:41, 800.68s/it]"
     ]
    },
    {
     "name": "stdout",
     "output_type": "stream",
     "text": [
      "Performing predictions on input feature of shape: (751, 1372)\n",
      "Predicting chunk of size: 751\n",
      "Fitting inputs to feature descriptors using mordred\n"
     ]
    },
    {
     "name": "stderr",
     "output_type": "stream",
     "text": [
      "\n",
      " 60%|██████    | 3/5 [44:40<26:41, 800.68s/it]     "
     ]
    },
    {
     "name": "stdout",
     "output_type": "stream",
     "text": [
      "/home/gturon/miniconda3/envs/lazyqsar/lib/python3.10/site-packages/mordred/_matrix_attributes.py:251: RuntimeWarning: invalid value encountered in scalar power\n",
      "  s += (eig.vec[i, eig.max] * eig.vec[j, eig.max]) ** -0.5\n"
     ]
    },
    {
     "name": "stderr",
     "output_type": "stream",
     "text": [
      "100%|██████████| 3003/3003 [04:59<00:00, 10.03it/s]\n"
     ]
    },
    {
     "name": "stdout",
     "output_type": "stream",
     "text": [
      "Transforming inputs to feature descriptors using mordred\n"
     ]
    },
    {
     "name": "stderr",
     "output_type": "stream",
     "text": [
      "\n",
      " 60%|██████    | 3/5 [49:35<26:41, 800.68s/it]     "
     ]
    },
    {
     "name": "stdout",
     "output_type": "stream",
     "text": [
      "/home/gturon/miniconda3/envs/lazyqsar/lib/python3.10/site-packages/mordred/_matrix_attributes.py:251: RuntimeWarning: invalid value encountered in scalar power\n",
      "  s += (eig.vec[i, eig.max] * eig.vec[j, eig.max]) ** -0.5\n"
     ]
    },
    {
     "name": "stderr",
     "output_type": "stream",
     "text": [
      "100%|██████████| 3003/3003 [04:54<00:00, 10.19it/s]\n"
     ]
    },
    {
     "name": "stdout",
     "output_type": "stream",
     "text": [
      "Performing predictions on input feature of shape: (3003, 1372)\n",
      "Total samples: 3003, positive samples: 603, negative samples: 2400\n",
      "Positive proportion: 0.20\n",
      "Sampling rounds: 1, positive samples per round: 603, negative samples per round: 2400\n",
      "Desired positive proportion: 0.2007992007992008 Actual positive proportion:  0.2007992007992008\n",
      "Fitting model on 3003 samples, positive samples: 603, negative samples: 2400, number of features 1372\n",
      "CV-0...: {'n_estimators': 501, 'max_features': 0.24484242524861066, 'criterion': 'entropy', 'max_leaf_nodes': 1156, 'random_state': 12032022, 'verbose': 0, 'n_jobs': 8}\n",
      "Internal AUROC zsRF CV-0: 0.9202704194260485\n",
      "CV-1...: {'n_estimators': 501, 'max_features': 0.24484242524861066, 'criterion': 'entropy', 'max_leaf_nodes': 1156, 'random_state': 12032022, 'verbose': 0, 'n_jobs': 8}\n",
      "Internal AUROC zsRF CV-1: 0.9482395143487858\n",
      "CV-2...: {'n_estimators': 501, 'max_features': 0.24484242524861066, 'criterion': 'entropy', 'max_leaf_nodes': 1156, 'random_state': 12032022, 'verbose': 0, 'n_jobs': 8}\n",
      "Internal AUROC zsRF CV-2: 0.935005518763797\n",
      "Average AUROC: 0.9345051508462104\n",
      "Model fitted.\n",
      "Transforming inputs to feature descriptors using mordred\n"
     ]
    },
    {
     "name": "stderr",
     "output_type": "stream",
     "text": [
      "100%|██████████| 751/751 [01:07<00:00, 11.11it/s]\n",
      " 80%|████████  | 4/5 [53:01<13:14, 794.19s/it]"
     ]
    },
    {
     "name": "stdout",
     "output_type": "stream",
     "text": [
      "Performing predictions on input feature of shape: (751, 1372)\n",
      "Predicting chunk of size: 751\n",
      "Fitting inputs to feature descriptors using mordred\n"
     ]
    },
    {
     "name": "stderr",
     "output_type": "stream",
     "text": [
      "\n",
      " 80%|████████  | 4/5 [57:26<13:14, 794.19s/it]     "
     ]
    },
    {
     "name": "stdout",
     "output_type": "stream",
     "text": [
      "/home/gturon/miniconda3/envs/lazyqsar/lib/python3.10/site-packages/mordred/_matrix_attributes.py:251: RuntimeWarning: invalid value encountered in scalar power\n",
      "  s += (eig.vec[i, eig.max] * eig.vec[j, eig.max]) ** -0.5\n"
     ]
    },
    {
     "name": "stderr",
     "output_type": "stream",
     "text": [
      "100%|██████████| 3003/3003 [04:46<00:00, 10.50it/s]\n"
     ]
    },
    {
     "name": "stdout",
     "output_type": "stream",
     "text": [
      "Transforming inputs to feature descriptors using mordred\n"
     ]
    },
    {
     "name": "stderr",
     "output_type": "stream",
     "text": [
      "\n",
      " 80%|████████  | 4/5 [1:02:07<13:14, 794.19s/it]   "
     ]
    },
    {
     "name": "stdout",
     "output_type": "stream",
     "text": [
      "/home/gturon/miniconda3/envs/lazyqsar/lib/python3.10/site-packages/mordred/_matrix_attributes.py:251: RuntimeWarning: invalid value encountered in scalar power\n",
      "  s += (eig.vec[i, eig.max] * eig.vec[j, eig.max]) ** -0.5\n"
     ]
    },
    {
     "name": "stderr",
     "output_type": "stream",
     "text": [
      "100%|██████████| 3003/3003 [04:37<00:00, 10.82it/s]\n"
     ]
    },
    {
     "name": "stdout",
     "output_type": "stream",
     "text": [
      "Performing predictions on input feature of shape: (3003, 1372)\n",
      "Total samples: 3003, positive samples: 603, negative samples: 2400\n",
      "Positive proportion: 0.20\n",
      "Sampling rounds: 1, positive samples per round: 603, negative samples per round: 2400\n",
      "Desired positive proportion: 0.2007992007992008 Actual positive proportion:  0.2007992007992008\n",
      "Fitting model on 3003 samples, positive samples: 603, negative samples: 2400, number of features 1372\n",
      "CV-0...: {'n_estimators': 501, 'max_features': 0.24484242524861066, 'criterion': 'entropy', 'max_leaf_nodes': 1156, 'random_state': 12032022, 'verbose': 0, 'n_jobs': 8}\n",
      "Internal AUROC zsRF CV-0: 0.9418598233995585\n",
      "CV-1...: {'n_estimators': 501, 'max_features': 0.24484242524861066, 'criterion': 'entropy', 'max_leaf_nodes': 1156, 'random_state': 12032022, 'verbose': 0, 'n_jobs': 8}\n",
      "Internal AUROC zsRF CV-1: 0.9300496688741722\n",
      "CV-2...: {'n_estimators': 501, 'max_features': 0.24484242524861066, 'criterion': 'entropy', 'max_leaf_nodes': 1156, 'random_state': 12032022, 'verbose': 0, 'n_jobs': 8}\n",
      "Internal AUROC zsRF CV-2: 0.9530849889624724\n",
      "Average AUROC: 0.9416648270787343\n",
      "Model fitted.\n",
      "Transforming inputs to feature descriptors using mordred\n"
     ]
    },
    {
     "name": "stderr",
     "output_type": "stream",
     "text": [
      "100%|██████████| 751/751 [01:37<00:00,  7.73it/s]\n",
      "100%|██████████| 5/5 [1:06:05<00:00, 793.06s/it]"
     ]
    },
    {
     "name": "stdout",
     "output_type": "stream",
     "text": [
      "Performing predictions on input feature of shape: (751, 1372)\n",
      "Predicting chunk of size: 751\n"
     ]
    },
    {
     "name": "stderr",
     "output_type": "stream",
     "text": [
      "\n"
     ]
    }
   ],
   "source": [
    "pos = df[df[\"activity\"]==1]\n",
    "neg_sd = pd.read_csv(os.path.join(data_dir, \"chembl\", \"chembl_smi.csv\"))\n",
    "neg_sd = neg_sd.sample(frac=0.5, random_state=42)\n",
    "neg_np = pd.read_csv(os.path.join(data_dir, \"coconut\", \"coconut_smi.csv\"))\n",
    "neg_np = neg_np.sample(frac=0.5, random_state=42)\n",
    "neg = pd.concat([neg_sd, neg_np], axis=0)\n",
    "neg[\"activity\"] = 0\n",
    "pos = pos[[\"canonical_smiles\", \"activity\"]]\n",
    "neg = neg[[\"canonical_smiles\", \"activity\"]]\n",
    "\n",
    "all = pd.concat([pos, neg], axis=0)\n",
    "print(all.shape)\n",
    "#cross_validate(all[\"canonical_smiles\"].tolist(), all[\"activity\"].tolist(), \"external_all_morgan\", \"morgan\", \"zsrandomforest\")\n",
    "cross_validate(all[\"canonical_smiles\"].tolist(), all[\"activity\"].tolist(), \"external_all_mordred\", \"mordred\", \"zsrandomforest\")"
   ]
  },
  {
   "cell_type": "markdown",
   "id": "6a4ff8fa",
   "metadata": {},
   "source": [
    "# Plot Performances"
   ]
  },
  {
   "cell_type": "code",
   "execution_count": 6,
   "id": "36fc7ffc",
   "metadata": {},
   "outputs": [],
   "source": [
    "import os\n",
    "import json\n",
    "import numpy as np\n",
    "from sklearn.metrics import roc_curve, auc\n",
    "import matplotlib.pyplot as plt\n",
    "import stylia as st\n",
    "from stylia import (\n",
    "    ONE_COLUMN_WIDTH,\n",
    "    TWO_COLUMNS_WIDTH,\n",
    "    NamedColorMaps,\n",
    "    NamedColors,\n",
    "    ContinuousColorMap,\n",
    ")\n",
    "\n",
    "data_dir = \"../data/\"\n",
    "model_dir = \"../models/\"\n",
    "figure_dir = \"../figures/\"\n",
    "\n",
    "def plot_roc_curve(ax, name):\n",
    "    with open(os.path.join(model_dir, f\"{name}.json\"), 'r') as f:\n",
    "        results = json.load(f)\n",
    "\n",
    "    y_hats = results['y_hat']\n",
    "    y_trues = results['y']\n",
    "\n",
    "    tprs = []\n",
    "    aucs = []\n",
    "    mean_fpr = np.linspace(0, 1, 100)\n",
    "\n",
    "    for y_true, y_hat in zip(y_trues, y_hats):\n",
    "        y_true = np.array(y_true)\n",
    "        y_hat = np.array(y_hat)\n",
    "\n",
    "        fpr, tpr, _ = roc_curve(y_true, y_hat)\n",
    "        roc_auc = auc(fpr, tpr)\n",
    "\n",
    "        tpr_interp = np.interp(mean_fpr, fpr, tpr)\n",
    "        tpr_interp[0] = 0.0\n",
    "        tprs.append(tpr_interp)\n",
    "        aucs.append(roc_auc)\n",
    "\n",
    "    mean_tpr = np.mean(tprs, axis=0)\n",
    "    std_tpr = np.std(tprs, axis=0)\n",
    "\n",
    "    mean_auc = auc(mean_fpr, mean_tpr)\n",
    "    std_auc = np.std(aucs)\n",
    "\n",
    "    ax.plot(mean_fpr, mean_tpr, color='b',\n",
    "            label=r'Mean ROC (AUC = {:.2f} $\\pm$ {:.2f})'.format(mean_auc, std_auc),\n",
    "            lw=1, alpha=1)\n",
    "    ax.plot([0, 1], [0, 1], linestyle='--', lw=1, color='gray')\n",
    "    tpr_upper = np.minimum(mean_tpr + std_tpr, 1)\n",
    "    tpr_lower = np.maximum(mean_tpr - std_tpr, 0)\n",
    "    ax.fill_between(mean_fpr, tpr_lower, tpr_upper, color='gray', alpha=0.5,\n",
    "                    label=r'$\\pm$ 1 std. dev.')\n",
    "    ax.set_title(f\"AUROC {name}\")\n",
    "    ax.set_xlabel(\"\")\n",
    "    ax.set_ylabel(\"\")"
   ]
  },
  {
   "cell_type": "code",
   "execution_count": 7,
   "id": "3b34d95b",
   "metadata": {},
   "outputs": [
    {
     "data": {
      "image/png": "[encoded data removed]",
      "text/plain": [
       "<Figure size 709x177.25 with 4 Axes>"
      ]
     },
     "metadata": {},
     "output_type": "display_data"
    }
   ],
   "source": [
    "names = [\"internal_all_morgan\", \"internal_np_morgan\", \"internal_sd_morgan\", \"external_all_morgan\"]\n",
    "fig, axs = st.create_figure(\n",
    "    1, len(names), width=TWO_COLUMNS_WIDTH, height=0.25 * TWO_COLUMNS_WIDTH\n",
    ")\n",
    "\n",
    "for n in names:\n",
    "    ax = axs.next()\n",
    "    plot_roc_curve(ax, n)\n",
    "\n",
    "plt.tight_layout()\n",
    "plt.savefig(os.path.join(figure_dir, \"roc_curves_morgan.png\"), dpi=300)"
   ]
  },
  {
   "cell_type": "code",
   "execution_count": 8,
   "id": "68210f4d",
   "metadata": {},
   "outputs": [
    {
     "data": {
      "image/png": "[encoded data removed]",
      "text/plain": [
       "<Figure size 709x177.25 with 4 Axes>"
      ]
     },
     "metadata": {},
     "output_type": "display_data"
    }
   ],
   "source": [
    "names = [\"internal_all_mordred\", \"internal_np_mordred\", \"internal_sd_mordred\", \"external_all_mordred\"]\n",
    "fig, axs = st.create_figure(\n",
    "    1, len(names), width=TWO_COLUMNS_WIDTH, height=0.25 * TWO_COLUMNS_WIDTH\n",
    ")\n",
    "\n",
    "for n in names:\n",
    "    ax = axs.next()\n",
    "    plot_roc_curve(ax, n)\n",
    "\n",
    "plt.tight_layout()\n",
    "plt.savefig(os.path.join(figure_dir, \"roc_curves_mordred.png\"), dpi=300)"
   ]
  },
  {
   "cell_type": "code",
   "execution_count": null,
   "id": "571f633d",
   "metadata": {},
   "outputs": [],
   "source": []
  }
 ],
 "metadata": {
  "kernelspec": {
   "display_name": "chem",
   "language": "python",
   "name": "python3"
  },
  "language_info": {
   "codemirror_mode": {
    "name": "ipython",
    "version": 3
   },
   "file_extension": ".py",
   "mimetype": "text/x-python",
   "name": "python",
   "nbconvert_exporter": "python",
   "pygments_lexer": "ipython3",
   "version": "3.12.9"
  }
 },
 "nbformat": 4,
 "nbformat_minor": 5
}
