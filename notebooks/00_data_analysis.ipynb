{
 "cells": [
  {
   "cell_type": "code",
   "execution_count": 1,
   "id": "c0b65d99",
   "metadata": {},
   "outputs": [],
   "source": [
    "import pandas as pd\n",
    "import os\n",
    "\n",
    "\n",
    "DATAPATH = \"../data\""
   ]
  },
  {
   "cell_type": "code",
   "execution_count": 12,
   "id": "f5a6277c",
   "metadata": {},
   "outputs": [],
   "source": [
    "df1 = pd.read_csv(os.path.join(DATAPATH, \"original\", \"250425_sheet1.csv\"))\n",
    "df2 = pd.read_csv(os.path.join(DATAPATH, \"original\", \"250425_sheet2.csv\"))"
   ]
  },
  {
   "cell_type": "code",
   "execution_count": 13,
   "id": "33f38b3b",
   "metadata": {},
   "outputs": [
    {
     "name": "stdout",
     "output_type": "stream",
     "text": [
      "(513, 21) (467, 18)\n",
      "(490, 21) (465, 18)\n"
     ]
    }
   ],
   "source": [
    "print(df1.shape, df2.shape)\n",
    "df1 = df1[~df1[\"Smiles\"].isna()]\n",
    "df2 = df2[~df2[\"Smiles\"].isna()]\n",
    "print(df1.shape, df2.shape)"
   ]
  },
  {
   "cell_type": "code",
   "execution_count": 14,
   "id": "a2ac5298",
   "metadata": {},
   "outputs": [],
   "source": [
    "smi1 = df1[\"Smiles\"]\n",
    "smi2 = df2[\"Smiles\"]"
   ]
  },
  {
   "cell_type": "code",
   "execution_count": 15,
   "id": "25dca3af",
   "metadata": {},
   "outputs": [
    {
     "name": "stdout",
     "output_type": "stream",
     "text": [
      "490 465\n"
     ]
    }
   ],
   "source": [
    "print(len(smi1), len(smi2))"
   ]
  },
  {
   "cell_type": "code",
   "execution_count": 16,
   "id": "af390834",
   "metadata": {},
   "outputs": [
    {
     "data": {
      "text/plain": [
       "'C=CCSSCC=C'"
      ]
     },
     "execution_count": 16,
     "metadata": {},
     "output_type": "execute_result"
    }
   ],
   "source": [
    "smi1[4]"
   ]
  },
  {
   "cell_type": "code",
   "execution_count": 21,
   "id": "e37ab317",
   "metadata": {},
   "outputs": [
    {
     "name": "stderr",
     "output_type": "stream",
     "text": [
      "[17:21:42] SMILES Parse Error: syntax error while parsing: C1=C(C=C(C(=C1O)O)O)C(=O)OC[C@@H]2[C@H]([C@@H]([C@H([C@@H(O2)OC(=O)C3=CC(=C(C(=C3)O)O)O)OC(=O)C4=CC(=C(C(=C4)O)O)O)OC(=O)C5=CC(=C(C(=C5)O)O)O)OC(=O)C6=CC(=C(C(=C6)O)O)O\n",
      "[17:21:42] SMILES Parse Error: Failed parsing SMILES 'C1=C(C=C(C(=C1O)O)O)C(=O)OC[C@@H]2[C@H]([C@@H]([C@H([C@@H(O2)OC(=O)C3=CC(=C(C(=C3)O)O)O)OC(=O)C4=CC(=C(C(=C4)O)O)O)OC(=O)C5=CC(=C(C(=C5)O)O)O)OC(=O)C6=CC(=C(C(=C6)O)O)O' for input: 'C1=C(C=C(C(=C1O)O)O)C(=O)OC[C@@H]2[C@H]([C@@H]([C@H([C@@H(O2)OC(=O)C3=CC(=C(C(=C3)O)O)O)OC(=O)C4=CC(=C(C(=C4)O)O)O)OC(=O)C5=CC(=C(C(=C5)O)O)O)OC(=O)C6=CC(=C(C(=C6)O)O)O'\n",
      "[17:21:42] SMILES Parse Error: syntax error while parsing: CSCPPACGZOOCGX-UHFFFAOYSA-N\n",
      "[17:21:42] SMILES Parse Error: Failed parsing SMILES 'CSCPPACGZOOCGX-UHFFFAOYSA-N' for input: 'CSCPPACGZOOCGX-UHFFFAOYSA-N'\n",
      "[17:21:42] SMILES Parse Error: syntax error while parsing: 1[C@H](C([C@](C(C1(C(=O)O)O)(C(=O)C2=CC(=C(C(=C2)O)O)O)C(=O)C3=CC(=C(C(=C3)O)O)O)(C(=O)C4=CC(=C(C(=C4)O)O)O)O)(C(=O)C5=CC(=C(C(=C5)O)O)O)O)O\n",
      "[17:21:42] SMILES Parse Error: Failed parsing SMILES '1[C@H](C([C@](C(C1(C(=O)O)O)(C(=O)C2=CC(=C(C(=C2)O)O)O)C(=O)C3=CC(=C(C(=C3)O)O)O)(C(=O)C4=CC(=C(C(=C4)O)O)O)O)(C(=O)C5=CC(=C(C(=C5)O)O)O)O)O' for input: '1[C@H](C([C@](C(C1(C(=O)O)O)(C(=O)C2=CC(=C(C(=C2)O)O)O)C(=O)C3=CC(=C(C(=C3)O)O)O)(C(=O)C4=CC(=C(C(=C4)O)O)O)O)(C(=O)C5=CC(=C(C(=C5)O)O)O)O)O'\n",
      "[17:21:42] SMILES Parse Error: syntax error while parsing: CC(N=C[23])=NC(C(F)(F)F)=C@23CCC(N(@23)CC[6]=CN=C(C[13]()=CC=CC=C@13C[22]=NN=NN@22)C=C@7)=O\n",
      "[17:21:42] SMILES Parse Error: Failed parsing SMILES 'CC(N=C[23])=NC(C(F)(F)F)=C@23CCC(N(@23)CC[6]=CN=C(C[13]()=CC=CC=C@13C[22]=NN=NN@22)C=C@7)=O' for input: 'CC(N=C[23])=NC(C(F)(F)F)=C@23CCC(N(@23)CC[6]=CN=C(C[13]()=CC=CC=C@13C[22]=NN=NN@22)C=C@7)=O'\n",
      "[17:21:42] SMILES Parse Error: syntax error while parsing: O=C(C[3:S=I]HN(CCC@4)C(C[S=N]H(NC[S=N]H(CCC[16]=CC=CC=C@16)C(O)=O)C)=O)O\n",
      "[17:21:42] SMILES Parse Error: Failed parsing SMILES 'O=C(C[3:S=I]HN(CCC@4)C(C[S=N]H(NC[S=N]H(CCC[16]=CC=CC=C@16)C(O)=O)C)=O)O' for input: 'O=C(C[3:S=I]HN(CCC@4)C(C[S=N]H(NC[S=N]H(CCC[16]=CC=CC=C@16)C(O)=O)C)=O)O'\n",
      "[17:21:42] SMILES Parse Error: syntax error while parsing: O=C(O)CN(C(C(C)CSC(C)=O)=O)C[6:S=N]HC[S=I](C[12])(H)CCC[S=I]@12(H)C@7\n",
      "[17:21:42] SMILES Parse Error: Failed parsing SMILES 'O=C(O)CN(C(C(C)CSC(C)=O)=O)C[6:S=N]HC[S=I](C[12])(H)CCC[S=I]@12(H)C@7' for input: 'O=C(O)CN(C(C(C)CSC(C)=O)=O)C[6:S=N]HC[S=I](C[12])(H)CCC[S=I]@12(H)C@7'\n",
      "[17:21:42] SMILES Parse Error: syntax error while parsing: O=C(O)CN(CCC[17]=CC=CO@17)C(C(C)CSC(C)=O)=O\n",
      "[17:21:42] SMILES Parse Error: Failed parsing SMILES 'O=C(O)CN(CCC[17]=CC=CO@17)C(C(C)CSC(C)=O)=O' for input: 'O=C(O)CN(CCC[17]=CC=CO@17)C(C(C)CSC(C)=O)=O'\n",
      "[17:21:42] SMILES Parse Error: syntax error while parsing: O=C(O)CN(C[17]=C(C)C=CC=C@17)C(C(C)CS)=C\n",
      "[17:21:42] SMILES Parse Error: Failed parsing SMILES 'O=C(O)CN(C[17]=C(C)C=CC=C@17)C(C(C)CS)=C' for input: 'O=C(O)CN(C[17]=C(C)C=CC=C@17)C(C(C)CS)=C'\n",
      "[17:21:42] SMILES Parse Error: syntax error while parsing: O=C(N[18]CCCC)C[16]=C(N=CC(F)=C@16)N(@18)CC(C=C[12])=CC=C@12C[5]=C(C[23]=NNN=N@23)C=CC=C@6\n",
      "[17:21:42] SMILES Parse Error: Failed parsing SMILES 'O=C(N[18]CCCC)C[16]=C(N=CC(F)=C@16)N(@18)CC(C=C[12])=CC=C@12C[5]=C(C[23]=NNN=N@23)C=CC=C@6' for input: 'O=C(N[18]CCCC)C[16]=C(N=CC(F)=C@16)N(@18)CC(C=C[12])=CC=C@12C[5]=C(C[23]=NNN=N@23)C=CC=C@6'\n"
     ]
    },
    {
     "name": "stdout",
     "output_type": "stream",
     "text": [
      "Invalid SMILES: C1=C(C=C(C(=C1O)O)O)C(=O)OC[C@@H]2[C@H]([C@@H]([C@H([C@@H(O2)OC(=O)C3=CC(=C(C(=C3)O)O)O)OC(=O)C4=CC(=C(C(=C4)O)O)O)OC(=O)C5=CC(=C(C(=C5)O)O)O)OC(=O)C6=CC(=C(C(=C6)O)O)O\n",
      "Invalid SMILES: CSCPPACGZOOCGX-UHFFFAOYSA-N\n",
      "Invalid SMILES: 1[C@H](C([C@](C(C1(C(=O)O)O)(C(=O)C2=CC(=C(C(=C2)O)O)O)C(=O)C3=CC(=C(C(=C3)O)O)O)(C(=O)C4=CC(=C(C(=C4)O)O)O)O)(C(=O)C5=CC(=C(C(=C5)O)O)O)O)O\n",
      "Invalid SMILES: CC(N=C[23])=NC(C(F)(F)F)=C@23CCC(N(@23)CC[6]=CN=C(C[13]()=CC=CC=C@13C[22]=NN=NN@22)C=C@7)=O\n",
      "Invalid SMILES: O=C(C[3:S=I]HN(CCC@4)C(C[S=N]H(NC[S=N]H(CCC[16]=CC=CC=C@16)C(O)=O)C)=O)O\n",
      "Invalid SMILES: O=C(O)CN(C(C(C)CSC(C)=O)=O)C[6:S=N]HC[S=I](C[12])(H)CCC[S=I]@12(H)C@7\n",
      "Invalid SMILES: O=C(O)CN(CCC[17]=CC=CO@17)C(C(C)CSC(C)=O)=O\n",
      "Invalid SMILES: O=C(O)CN(C[17]=C(C)C=CC=C@17)C(C(C)CS)=C\n",
      "Invalid SMILES: O=C(N[18]CCCC)C[16]=C(N=CC(F)=C@16)N(@18)CC(C=C[12])=CC=C@12C[5]=C(C[23]=NNN=N@23)C=CC=C@6\n",
      "487 459\n"
     ]
    }
   ],
   "source": [
    "from rdkit import Chem\n",
    "inchi1 = []\n",
    "for smi in smi1:\n",
    "    mol = Chem.MolFromSmiles(smi)\n",
    "    if mol is None:\n",
    "        print(\"Invalid SMILES:\", smi)\n",
    "    else:\n",
    "        inchikey = Chem.MolToInchiKey(mol)\n",
    "        inchi1.append(inchikey)\n",
    "\n",
    "inchi2 = []\n",
    "for smi in smi2:\n",
    "    mol = Chem.MolFromSmiles(smi)\n",
    "    if mol is None:\n",
    "        print(\"Invalid SMILES:\", smi)\n",
    "    else:\n",
    "        inchikey = Chem.MolToInchiKey(mol)\n",
    "        inchi2.append(inchikey)\n",
    "\n",
    "print(len(inchi1), len(inchi2))"
   ]
  },
  {
   "cell_type": "code",
   "execution_count": 22,
   "id": "6f24a5c4",
   "metadata": {},
   "outputs": [
    {
     "name": "stdout",
     "output_type": "stream",
     "text": [
      "814\n"
     ]
    }
   ],
   "source": [
    "all_smi = list(set(inchi1+inchi2))\n",
    "print(len(all_smi))"
   ]
  },
  {
   "cell_type": "code",
   "execution_count": null,
   "id": "7e4fbcfd",
   "metadata": {},
   "outputs": [],
   "source": []
  }
 ],
 "metadata": {
  "kernelspec": {
   "display_name": "chem",
   "language": "python",
   "name": "python3"
  },
  "language_info": {
   "codemirror_mode": {
    "name": "ipython",
    "version": 3
   },
   "file_extension": ".py",
   "mimetype": "text/x-python",
   "name": "python",
   "nbconvert_exporter": "python",
   "pygments_lexer": "ipython3",
   "version": "3.11.8"
  }
 },
 "nbformat": 4,
 "nbformat_minor": 5
}
